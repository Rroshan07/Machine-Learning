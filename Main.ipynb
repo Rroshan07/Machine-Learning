{
 "cells": [
  {
   "cell_type": "code",
   "execution_count": 1,
   "metadata": {},
   "outputs": [],
   "source": [
    "import pandas as pd\n",
    "sales=pd.read_csv(\"https://raw.githubusercontent.com/Adarsh09052000/demo-csv/main/raw_data.csv\")"
   ]
  },
  {
   "cell_type": "code",
   "execution_count": 2,
   "metadata": {},
   "outputs": [
    {
     "data": {
      "text/html": [
       "<div>\n",
       "<style scoped>\n",
       "    .dataframe tbody tr th:only-of-type {\n",
       "        vertical-align: middle;\n",
       "    }\n",
       "\n",
       "    .dataframe tbody tr th {\n",
       "        vertical-align: top;\n",
       "    }\n",
       "\n",
       "    .dataframe thead th {\n",
       "        text-align: right;\n",
       "    }\n",
       "</style>\n",
       "<table border=\"1\" class=\"dataframe\">\n",
       "  <thead>\n",
       "    <tr style=\"text-align: right;\">\n",
       "      <th></th>\n",
       "      <th>brcode</th>\n",
       "      <th>tran_type</th>\n",
       "      <th>d_date</th>\n",
       "      <th>tran_month</th>\n",
       "      <th>item_code</th>\n",
       "      <th>qty</th>\n",
       "      <th>day</th>\n",
       "      <th>month</th>\n",
       "      <th>year</th>\n",
       "      <th>quarter</th>\n",
       "      <th>week</th>\n",
       "      <th>day_type</th>\n",
       "    </tr>\n",
       "  </thead>\n",
       "  <tbody>\n",
       "    <tr>\n",
       "      <th>0</th>\n",
       "      <td>109</td>\n",
       "      <td>Sale</td>\n",
       "      <td>2016-04-01</td>\n",
       "      <td>April</td>\n",
       "      <td>319048</td>\n",
       "      <td>4.0</td>\n",
       "      <td>1</td>\n",
       "      <td>4</td>\n",
       "      <td>2016</td>\n",
       "      <td>1.0</td>\n",
       "      <td>13</td>\n",
       "      <td>weekday</td>\n",
       "    </tr>\n",
       "    <tr>\n",
       "      <th>1</th>\n",
       "      <td>3</td>\n",
       "      <td>Sale</td>\n",
       "      <td>2016-04-01</td>\n",
       "      <td>April</td>\n",
       "      <td>201975</td>\n",
       "      <td>6.0</td>\n",
       "      <td>1</td>\n",
       "      <td>4</td>\n",
       "      <td>2016</td>\n",
       "      <td>1.0</td>\n",
       "      <td>13</td>\n",
       "      <td>weekday</td>\n",
       "    </tr>\n",
       "    <tr>\n",
       "      <th>2</th>\n",
       "      <td>109</td>\n",
       "      <td>Sale</td>\n",
       "      <td>2016-04-01</td>\n",
       "      <td>April</td>\n",
       "      <td>208501</td>\n",
       "      <td>6.0</td>\n",
       "      <td>1</td>\n",
       "      <td>4</td>\n",
       "      <td>2016</td>\n",
       "      <td>1.0</td>\n",
       "      <td>13</td>\n",
       "      <td>weekday</td>\n",
       "    </tr>\n",
       "    <tr>\n",
       "      <th>3</th>\n",
       "      <td>3</td>\n",
       "      <td>Sale</td>\n",
       "      <td>2016-04-01</td>\n",
       "      <td>April</td>\n",
       "      <td>208501</td>\n",
       "      <td>9.0</td>\n",
       "      <td>1</td>\n",
       "      <td>4</td>\n",
       "      <td>2016</td>\n",
       "      <td>1.0</td>\n",
       "      <td>13</td>\n",
       "      <td>weekday</td>\n",
       "    </tr>\n",
       "    <tr>\n",
       "      <th>4</th>\n",
       "      <td>109</td>\n",
       "      <td>Sale</td>\n",
       "      <td>2016-04-01</td>\n",
       "      <td>April</td>\n",
       "      <td>208501</td>\n",
       "      <td>1.0</td>\n",
       "      <td>1</td>\n",
       "      <td>4</td>\n",
       "      <td>2016</td>\n",
       "      <td>1.0</td>\n",
       "      <td>13</td>\n",
       "      <td>weekday</td>\n",
       "    </tr>\n",
       "    <tr>\n",
       "      <th>...</th>\n",
       "      <td>...</td>\n",
       "      <td>...</td>\n",
       "      <td>...</td>\n",
       "      <td>...</td>\n",
       "      <td>...</td>\n",
       "      <td>...</td>\n",
       "      <td>...</td>\n",
       "      <td>...</td>\n",
       "      <td>...</td>\n",
       "      <td>...</td>\n",
       "      <td>...</td>\n",
       "      <td>...</td>\n",
       "    </tr>\n",
       "    <tr>\n",
       "      <th>64860</th>\n",
       "      <td>109</td>\n",
       "      <td>Sale</td>\n",
       "      <td>2018-05-30</td>\n",
       "      <td>May</td>\n",
       "      <td>310183</td>\n",
       "      <td>1.0</td>\n",
       "      <td>30</td>\n",
       "      <td>5</td>\n",
       "      <td>2018</td>\n",
       "      <td>1.0</td>\n",
       "      <td>21</td>\n",
       "      <td>weekday</td>\n",
       "    </tr>\n",
       "    <tr>\n",
       "      <th>64861</th>\n",
       "      <td>3</td>\n",
       "      <td>Sale</td>\n",
       "      <td>2018-05-30</td>\n",
       "      <td>May</td>\n",
       "      <td>233539</td>\n",
       "      <td>1.0</td>\n",
       "      <td>30</td>\n",
       "      <td>5</td>\n",
       "      <td>2018</td>\n",
       "      <td>1.0</td>\n",
       "      <td>21</td>\n",
       "      <td>weekday</td>\n",
       "    </tr>\n",
       "    <tr>\n",
       "      <th>64862</th>\n",
       "      <td>3</td>\n",
       "      <td>Sale</td>\n",
       "      <td>2018-05-30</td>\n",
       "      <td>May</td>\n",
       "      <td>208501</td>\n",
       "      <td>11.0</td>\n",
       "      <td>30</td>\n",
       "      <td>5</td>\n",
       "      <td>2018</td>\n",
       "      <td>1.0</td>\n",
       "      <td>21</td>\n",
       "      <td>weekday</td>\n",
       "    </tr>\n",
       "    <tr>\n",
       "      <th>64863</th>\n",
       "      <td>3</td>\n",
       "      <td>Sale</td>\n",
       "      <td>2018-05-30</td>\n",
       "      <td>May</td>\n",
       "      <td>206115</td>\n",
       "      <td>1.0</td>\n",
       "      <td>30</td>\n",
       "      <td>5</td>\n",
       "      <td>2018</td>\n",
       "      <td>1.0</td>\n",
       "      <td>21</td>\n",
       "      <td>weekday</td>\n",
       "    </tr>\n",
       "    <tr>\n",
       "      <th>64864</th>\n",
       "      <td>109</td>\n",
       "      <td>Sale</td>\n",
       "      <td>2018-05-30</td>\n",
       "      <td>May</td>\n",
       "      <td>326899</td>\n",
       "      <td>20.0</td>\n",
       "      <td>30</td>\n",
       "      <td>5</td>\n",
       "      <td>2018</td>\n",
       "      <td>1.0</td>\n",
       "      <td>21</td>\n",
       "      <td>weekday</td>\n",
       "    </tr>\n",
       "  </tbody>\n",
       "</table>\n",
       "<p>64865 rows × 12 columns</p>\n",
       "</div>"
      ],
      "text/plain": [
       "       brcode tran_type      d_date tran_month  item_code   qty  day  month  \\\n",
       "0         109      Sale  2016-04-01      April     319048   4.0    1      4   \n",
       "1           3      Sale  2016-04-01      April     201975   6.0    1      4   \n",
       "2         109      Sale  2016-04-01      April     208501   6.0    1      4   \n",
       "3           3      Sale  2016-04-01      April     208501   9.0    1      4   \n",
       "4         109      Sale  2016-04-01      April     208501   1.0    1      4   \n",
       "...       ...       ...         ...        ...        ...   ...  ...    ...   \n",
       "64860     109      Sale  2018-05-30        May     310183   1.0   30      5   \n",
       "64861       3      Sale  2018-05-30        May     233539   1.0   30      5   \n",
       "64862       3      Sale  2018-05-30        May     208501  11.0   30      5   \n",
       "64863       3      Sale  2018-05-30        May     206115   1.0   30      5   \n",
       "64864     109      Sale  2018-05-30        May     326899  20.0   30      5   \n",
       "\n",
       "       year  quarter  week day_type  \n",
       "0      2016      1.0    13  weekday  \n",
       "1      2016      1.0    13  weekday  \n",
       "2      2016      1.0    13  weekday  \n",
       "3      2016      1.0    13  weekday  \n",
       "4      2016      1.0    13  weekday  \n",
       "...     ...      ...   ...      ...  \n",
       "64860  2018      1.0    21  weekday  \n",
       "64861  2018      1.0    21  weekday  \n",
       "64862  2018      1.0    21  weekday  \n",
       "64863  2018      1.0    21  weekday  \n",
       "64864  2018      1.0    21  weekday  \n",
       "\n",
       "[64865 rows x 12 columns]"
      ]
     },
     "execution_count": 2,
     "metadata": {},
     "output_type": "execute_result"
    }
   ],
   "source": [
    "sales"
   ]
  },
  {
   "cell_type": "code",
   "execution_count": 3,
   "metadata": {},
   "outputs": [
    {
     "data": {
      "text/plain": [
       "(64865, 4)"
      ]
     },
     "execution_count": 3,
     "metadata": {},
     "output_type": "execute_result"
    }
   ],
   "source": [
    "sales = sales.drop(['tran_type', 'tran_month', 'd_date','year', 'day_type', 'day','quarter','week'],axis='columns')\n",
    "sales.shape"
   ]
  },
  {
   "cell_type": "code",
   "execution_count": 4,
   "metadata": {},
   "outputs": [],
   "source": [
    "sales = pd.DataFrame(\n",
    "sales.groupby([sales['brcode'],sales[\"item_code\"], sales[\"month\"]])[\n",
    "        'qty'].sum())\n",
    "sales = sales.reset_index()  # reset the index"
   ]
  },
  {
   "cell_type": "code",
   "execution_count": 5,
   "metadata": {},
   "outputs": [
    {
     "data": {
      "text/html": [
       "<div>\n",
       "<style scoped>\n",
       "    .dataframe tbody tr th:only-of-type {\n",
       "        vertical-align: middle;\n",
       "    }\n",
       "\n",
       "    .dataframe tbody tr th {\n",
       "        vertical-align: top;\n",
       "    }\n",
       "\n",
       "    .dataframe thead th {\n",
       "        text-align: right;\n",
       "    }\n",
       "</style>\n",
       "<table border=\"1\" class=\"dataframe\">\n",
       "  <thead>\n",
       "    <tr style=\"text-align: right;\">\n",
       "      <th></th>\n",
       "      <th>brcode</th>\n",
       "      <th>item_code</th>\n",
       "      <th>month</th>\n",
       "      <th>qty</th>\n",
       "    </tr>\n",
       "  </thead>\n",
       "  <tbody>\n",
       "    <tr>\n",
       "      <th>0</th>\n",
       "      <td>3</td>\n",
       "      <td>201975</td>\n",
       "      <td>1</td>\n",
       "      <td>3093.0</td>\n",
       "    </tr>\n",
       "    <tr>\n",
       "      <th>1</th>\n",
       "      <td>3</td>\n",
       "      <td>201975</td>\n",
       "      <td>2</td>\n",
       "      <td>2469.0</td>\n",
       "    </tr>\n",
       "    <tr>\n",
       "      <th>2</th>\n",
       "      <td>3</td>\n",
       "      <td>201975</td>\n",
       "      <td>3</td>\n",
       "      <td>2774.0</td>\n",
       "    </tr>\n",
       "    <tr>\n",
       "      <th>3</th>\n",
       "      <td>3</td>\n",
       "      <td>201975</td>\n",
       "      <td>4</td>\n",
       "      <td>4709.0</td>\n",
       "    </tr>\n",
       "    <tr>\n",
       "      <th>4</th>\n",
       "      <td>3</td>\n",
       "      <td>201975</td>\n",
       "      <td>5</td>\n",
       "      <td>4301.0</td>\n",
       "    </tr>\n",
       "    <tr>\n",
       "      <th>...</th>\n",
       "      <td>...</td>\n",
       "      <td>...</td>\n",
       "      <td>...</td>\n",
       "      <td>...</td>\n",
       "    </tr>\n",
       "    <tr>\n",
       "      <th>340</th>\n",
       "      <td>109</td>\n",
       "      <td>326899</td>\n",
       "      <td>8</td>\n",
       "      <td>538.0</td>\n",
       "    </tr>\n",
       "    <tr>\n",
       "      <th>341</th>\n",
       "      <td>109</td>\n",
       "      <td>326899</td>\n",
       "      <td>9</td>\n",
       "      <td>357.0</td>\n",
       "    </tr>\n",
       "    <tr>\n",
       "      <th>342</th>\n",
       "      <td>109</td>\n",
       "      <td>326899</td>\n",
       "      <td>10</td>\n",
       "      <td>482.0</td>\n",
       "    </tr>\n",
       "    <tr>\n",
       "      <th>343</th>\n",
       "      <td>109</td>\n",
       "      <td>326899</td>\n",
       "      <td>11</td>\n",
       "      <td>210.0</td>\n",
       "    </tr>\n",
       "    <tr>\n",
       "      <th>344</th>\n",
       "      <td>109</td>\n",
       "      <td>326899</td>\n",
       "      <td>12</td>\n",
       "      <td>123.0</td>\n",
       "    </tr>\n",
       "  </tbody>\n",
       "</table>\n",
       "<p>345 rows × 4 columns</p>\n",
       "</div>"
      ],
      "text/plain": [
       "     brcode  item_code  month     qty\n",
       "0         3     201975      1  3093.0\n",
       "1         3     201975      2  2469.0\n",
       "2         3     201975      3  2774.0\n",
       "3         3     201975      4  4709.0\n",
       "4         3     201975      5  4301.0\n",
       "..      ...        ...    ...     ...\n",
       "340     109     326899      8   538.0\n",
       "341     109     326899      9   357.0\n",
       "342     109     326899     10   482.0\n",
       "343     109     326899     11   210.0\n",
       "344     109     326899     12   123.0\n",
       "\n",
       "[345 rows x 4 columns]"
      ]
     },
     "execution_count": 5,
     "metadata": {},
     "output_type": "execute_result"
    }
   ],
   "source": [
    "sales"
   ]
  },
  {
   "cell_type": "code",
   "execution_count": 6,
   "metadata": {},
   "outputs": [],
   "source": [
    "X = sales.drop(['qty'],axis='columns')\n",
    "y = sales['qty']"
   ]
  },
  {
   "cell_type": "code",
   "execution_count": 7,
   "metadata": {
    "scrolled": true
   },
   "outputs": [
    {
     "data": {
      "text/html": [
       "<div>\n",
       "<style scoped>\n",
       "    .dataframe tbody tr th:only-of-type {\n",
       "        vertical-align: middle;\n",
       "    }\n",
       "\n",
       "    .dataframe tbody tr th {\n",
       "        vertical-align: top;\n",
       "    }\n",
       "\n",
       "    .dataframe thead th {\n",
       "        text-align: right;\n",
       "    }\n",
       "</style>\n",
       "<table border=\"1\" class=\"dataframe\">\n",
       "  <thead>\n",
       "    <tr style=\"text-align: right;\">\n",
       "      <th></th>\n",
       "      <th>brcode</th>\n",
       "      <th>item_code</th>\n",
       "      <th>month</th>\n",
       "    </tr>\n",
       "  </thead>\n",
       "  <tbody>\n",
       "    <tr>\n",
       "      <th>0</th>\n",
       "      <td>3</td>\n",
       "      <td>201975</td>\n",
       "      <td>1</td>\n",
       "    </tr>\n",
       "    <tr>\n",
       "      <th>1</th>\n",
       "      <td>3</td>\n",
       "      <td>201975</td>\n",
       "      <td>2</td>\n",
       "    </tr>\n",
       "    <tr>\n",
       "      <th>2</th>\n",
       "      <td>3</td>\n",
       "      <td>201975</td>\n",
       "      <td>3</td>\n",
       "    </tr>\n",
       "    <tr>\n",
       "      <th>3</th>\n",
       "      <td>3</td>\n",
       "      <td>201975</td>\n",
       "      <td>4</td>\n",
       "    </tr>\n",
       "    <tr>\n",
       "      <th>4</th>\n",
       "      <td>3</td>\n",
       "      <td>201975</td>\n",
       "      <td>5</td>\n",
       "    </tr>\n",
       "    <tr>\n",
       "      <th>...</th>\n",
       "      <td>...</td>\n",
       "      <td>...</td>\n",
       "      <td>...</td>\n",
       "    </tr>\n",
       "    <tr>\n",
       "      <th>340</th>\n",
       "      <td>109</td>\n",
       "      <td>326899</td>\n",
       "      <td>8</td>\n",
       "    </tr>\n",
       "    <tr>\n",
       "      <th>341</th>\n",
       "      <td>109</td>\n",
       "      <td>326899</td>\n",
       "      <td>9</td>\n",
       "    </tr>\n",
       "    <tr>\n",
       "      <th>342</th>\n",
       "      <td>109</td>\n",
       "      <td>326899</td>\n",
       "      <td>10</td>\n",
       "    </tr>\n",
       "    <tr>\n",
       "      <th>343</th>\n",
       "      <td>109</td>\n",
       "      <td>326899</td>\n",
       "      <td>11</td>\n",
       "    </tr>\n",
       "    <tr>\n",
       "      <th>344</th>\n",
       "      <td>109</td>\n",
       "      <td>326899</td>\n",
       "      <td>12</td>\n",
       "    </tr>\n",
       "  </tbody>\n",
       "</table>\n",
       "<p>345 rows × 3 columns</p>\n",
       "</div>"
      ],
      "text/plain": [
       "     brcode  item_code  month\n",
       "0         3     201975      1\n",
       "1         3     201975      2\n",
       "2         3     201975      3\n",
       "3         3     201975      4\n",
       "4         3     201975      5\n",
       "..      ...        ...    ...\n",
       "340     109     326899      8\n",
       "341     109     326899      9\n",
       "342     109     326899     10\n",
       "343     109     326899     11\n",
       "344     109     326899     12\n",
       "\n",
       "[345 rows x 3 columns]"
      ]
     },
     "execution_count": 7,
     "metadata": {},
     "output_type": "execute_result"
    }
   ],
   "source": [
    "X"
   ]
  },
  {
   "cell_type": "code",
   "execution_count": 8,
   "metadata": {},
   "outputs": [
    {
     "data": {
      "text/plain": [
       "0      3093.0\n",
       "1      2469.0\n",
       "2      2774.0\n",
       "3      4709.0\n",
       "4      4301.0\n",
       "        ...  \n",
       "340     538.0\n",
       "341     357.0\n",
       "342     482.0\n",
       "343     210.0\n",
       "344     123.0\n",
       "Name: qty, Length: 345, dtype: float64"
      ]
     },
     "execution_count": 8,
     "metadata": {},
     "output_type": "execute_result"
    }
   ],
   "source": [
    "y"
   ]
  },
  {
   "cell_type": "code",
   "execution_count": 9,
   "metadata": {},
   "outputs": [],
   "source": [
    "scalable_variable = 'qty'\n",
    "mini_train, maxi_train = sales[scalable_variable].min(), sales[scalable_variable].max()\n",
    "sales.loc[:, scalable_variable] = (sales[scalable_variable] - mini_train) / (\n",
    "            maxi_train - mini_train)"
   ]
  },
  {
   "cell_type": "code",
   "execution_count": 10,
   "metadata": {},
   "outputs": [],
   "source": [
    "mini_test, maxi_test = sales[scalable_variable].min(), sales[scalable_variable].max()\n",
    "sales.loc[:, scalable_variable] = (sales[scalable_variable] - mini_test) / (maxi_test - mini_test)"
   ]
  },
  {
   "cell_type": "code",
   "execution_count": 11,
   "metadata": {},
   "outputs": [
    {
     "data": {
      "text/plain": [
       "0      0.182959\n",
       "1      0.146036\n",
       "2      0.164083\n",
       "3      0.278580\n",
       "4      0.254438\n",
       "         ...   \n",
       "340    0.031775\n",
       "341    0.021065\n",
       "342    0.028462\n",
       "343    0.012367\n",
       "344    0.007219\n",
       "Name: qty, Length: 345, dtype: float64"
      ]
     },
     "execution_count": 11,
     "metadata": {},
     "output_type": "execute_result"
    }
   ],
   "source": [
    "y"
   ]
  },
  {
   "cell_type": "code",
   "execution_count": 12,
   "metadata": {},
   "outputs": [],
   "source": [
    "from sklearn.model_selection import train_test_split\n",
    "X_train, X_test, y_train, y_test = train_test_split(X,y,train_size=0.75,test_size=0.25,random_state=None)"
   ]
  },
  {
   "cell_type": "code",
   "execution_count": 13,
   "metadata": {},
   "outputs": [],
   "source": [
    "from xgboost import XGBRegressor"
   ]
  },
  {
   "cell_type": "code",
   "execution_count": 14,
   "metadata": {},
   "outputs": [
    {
     "data": {
      "text/plain": [
       "XGBRegressor(base_score=0.5, booster='gbtree', colsample_bylevel=1,\n",
       "             colsample_bynode=1, colsample_bytree=1, gamma=0, gpu_id=-1,\n",
       "             importance_type='gain', interaction_constraints='',\n",
       "             learning_rate=0.300000012, max_delta_step=0, max_depth=5,\n",
       "             min_child_weight=1, missing=nan, monotone_constraints='()',\n",
       "             n_estimators=100, n_jobs=0, num_parallel_tree=1, random_state=0,\n",
       "             reg_alpha=0, reg_lambda=1, scale_pos_weight=1, subsample=1,\n",
       "             tree_method='exact', validate_parameters=1, verbosity=None)"
      ]
     },
     "execution_count": 14,
     "metadata": {},
     "output_type": "execute_result"
    }
   ],
   "source": [
    "lr = XGBRegressor(max_depth=5)\n",
    "lr.fit(X_train, y_train)"
   ]
  },
  {
   "cell_type": "code",
   "execution_count": 15,
   "metadata": {},
   "outputs": [],
   "source": [
    "y_pred = lr.predict(X_test)"
   ]
  },
  {
   "cell_type": "code",
   "execution_count": 16,
   "metadata": {},
   "outputs": [
    {
     "data": {
      "text/plain": [
       "array([-5.04553318e-04,  5.24258614e-03,  3.75524163e-03,  8.70537758e-03,\n",
       "        7.25084543e-03, -2.86626816e-03,  4.98282909e-03,  2.01465487e-02,\n",
       "        7.54812360e-03,  5.59912920e-02,  8.30812156e-01,  1.59857571e-02,\n",
       "        6.96801841e-02,  2.87749171e-02,  1.49207711e-01,  4.01441455e-02,\n",
       "        2.35668123e-02,  1.89256430e-01,  5.59225678e-03,  1.09596938e-01,\n",
       "        6.79132342e-03,  2.19903976e-01,  5.12699127e-01,  9.12504196e-02,\n",
       "        1.08785033e-02,  2.86019146e-02,  3.95077467e-03,  1.64456964e-02,\n",
       "        1.52483582e-02,  1.41945451e-01,  1.02612376e-03, -5.63144684e-04,\n",
       "        5.38697839e-03,  2.45310396e-01,  6.47336245e-04,  1.34469569e-02,\n",
       "        5.26209772e-02,  6.79010153e-03,  7.70658255e-04,  1.23065710e-03,\n",
       "        1.25985235e-01,  5.22257388e-02,  8.74465704e-03,  2.27219045e-01,\n",
       "        1.46600604e-02, -3.91781330e-04, -1.54205561e-02,  5.58438897e-02,\n",
       "        7.06752419e-01,  4.99218702e-04,  5.20291030e-02,  9.73935366e-01,\n",
       "        5.28928041e-02,  1.26709044e-02,  1.78605318e-03,  1.17972493e-03,\n",
       "        1.18593872e-02,  1.74029768e-02,  9.48032379e-01,  1.75706148e-02,\n",
       "        1.64299607e-02,  2.28208303e-03,  9.23216343e-03,  2.37097949e-01,\n",
       "        1.83025301e-02,  1.36083961e-02,  4.11519408e-03,  5.74362278e-03,\n",
       "        4.87207770e-02,  1.49854720e-02,  2.22102284e-01,  1.04383975e-01,\n",
       "        1.60136521e-02,  2.15177923e-01,  9.64060426e-03,  1.02612376e-03,\n",
       "        4.31853533e-03,  8.65897536e-03,  2.85187364e-03,  1.34530663e-03,\n",
       "        1.04669034e-02,  1.59891546e-02, -5.63144684e-04,  1.71841115e-01,\n",
       "        8.25891495e-02,  5.28058410e-03,  5.58555126e-04], dtype=float32)"
      ]
     },
     "execution_count": 16,
     "metadata": {},
     "output_type": "execute_result"
    }
   ],
   "source": [
    "y_pred"
   ]
  },
  {
   "cell_type": "code",
   "execution_count": 17,
   "metadata": {},
   "outputs": [
    {
     "name": "stdout",
     "output_type": "stream",
     "text": [
      "Monthly Forecasting\n",
      "RMSE: 0.065656\n",
      "R2: 0.879602\n"
     ]
    }
   ],
   "source": [
    "import numpy as np\n",
    "from sklearn import metrics\n",
    "from sklearn.metrics import mean_squared_error, r2_score, median_absolute_error\n",
    "rmse = np.sqrt(mean_squared_error(y_test, y_pred))\n",
    "mse_lr = round(metrics.mean_squared_error(y_test, y_pred), 4) \n",
    "print(\"Monthly Forecasting\")\n",
    "print(\"RMSE: %f\" % rmse)\n",
    "r2 = r2_score(y_test,y_pred)\n",
    "print(\"R2: %f\" %r2)"
   ]
  },
  {
   "cell_type": "code",
   "execution_count": 18,
   "metadata": {},
   "outputs": [
    {
     "data": {
      "text/plain": [
       "0.0043"
      ]
     },
     "execution_count": 18,
     "metadata": {},
     "output_type": "execute_result"
    }
   ],
   "source": [
    "mse_lr"
   ]
  },
  {
   "cell_type": "code",
   "execution_count": 19,
   "metadata": {},
   "outputs": [
    {
     "data": {
      "text/plain": [
       "0.0205"
      ]
     },
     "execution_count": 19,
     "metadata": {},
     "output_type": "execute_result"
    }
   ],
   "source": [
    "mae_lr = round(metrics.mean_absolute_error(y_test, y_pred), 4) \n",
    "mae_lr"
   ]
  },
  {
   "cell_type": "code",
   "execution_count": 20,
   "metadata": {},
   "outputs": [],
   "source": [
    "def predict_qty(brcode,item_code,month):\n",
    "    dict_data={'brcode':[brcode],'item_code':[item_code],'month':[month],}\n",
    "    data=pd.DataFrame.from_dict(dict_data)\n",
    "    a=lr.predict(data)\n",
    "    a=a.tolist()[0]\n",
    "    scalable_variable = 'qty'\n",
    "    y = a*(maxi_train - mini_train) + mini_train\n",
    "    return round(y)"
   ]
  },
  {
   "cell_type": "code",
   "execution_count": 21,
   "metadata": {},
   "outputs": [
    {
     "data": {
      "text/plain": [
       "Index(['brcode', 'item_code', 'month'], dtype='object')"
      ]
     },
     "execution_count": 21,
     "metadata": {},
     "output_type": "execute_result"
    }
   ],
   "source": [
    "X.columns"
   ]
  },
  {
   "cell_type": "code",
   "execution_count": 25,
   "metadata": {},
   "outputs": [
    {
     "data": {
      "text/plain": [
       "3065"
      ]
     },
     "execution_count": 25,
     "metadata": {},
     "output_type": "execute_result"
    }
   ],
   "source": [
    "a=predict_qty(3,201975,1)\n",
    "a"
   ]
  },
  {
   "cell_type": "code",
   "execution_count": 23,
   "metadata": {},
   "outputs": [],
   "source": [
    "import pickle\n",
    "with open(\"gui.pickle\",'wb') as f:\n",
    "    pickle.dump(lr,f)\n",
    "with open(\"max.pickle\",'wb') as f1:\n",
    "    pickle.dump(maxi_train,f1)\n",
    "with open(\"mini.pickle\",'wb') as f2:\n",
    "    pickle.dump(mini_train,f2)"
   ]
  },
  {
   "cell_type": "code",
   "execution_count": 24,
   "metadata": {},
   "outputs": [],
   "source": [
    "import json\n",
    "columns = {\n",
    "    'data_columns' : [col.lower() for col in X]\n",
    "}\n",
    "with open(\"salescolumn.json\",\"w\") as f:\n",
    "    f.write(json.dumps(columns))"
   ]
  },
  {
   "cell_type": "code",
   "execution_count": null,
   "metadata": {},
   "outputs": [],
   "source": []
  }
 ],
 "metadata": {
  "kernelspec": {
   "display_name": "Python 3",
   "language": "python",
   "name": "python3"
  },
  "language_info": {
   "codemirror_mode": {
    "name": "ipython",
    "version": 3
   },
   "file_extension": ".py",
   "mimetype": "text/x-python",
   "name": "python",
   "nbconvert_exporter": "python",
   "pygments_lexer": "ipython3",
   "version": "3.8.5"
  }
 },
 "nbformat": 4,
 "nbformat_minor": 4
}
